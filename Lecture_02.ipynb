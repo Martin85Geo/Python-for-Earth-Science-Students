{
 "cells": [
  {
   "cell_type": "markdown",
   "metadata": {},
   "source": [
    "## Lecture 2\n",
    "\n",
    "- Learn  about variables\n",
    "\n",
    "- Learn about operations\n",
    "\n"
   ]
  },
  {
   "cell_type": "markdown",
   "metadata": {},
   "source": [
    "### Variable types\n",
    "Variables store values. There are many variable types in Python, including: \n",
    "\n",
    "- integer (a number without a decimal),\n",
    "- floating point (a number with a decimal),\n",
    "- string (numbers and/or letters enclosed in quotation marks),\n",
    "- complex numbers, \n",
    "- booleans (True or False, 1 or 0).  \n",
    "\n",
    "Let's practice defining variables:"
   ]
  },
  {
   "cell_type": "code",
   "execution_count": 1,
   "metadata": {},
   "outputs": [],
   "source": [
    "# Remember that Python ignores everything on a line after  a pound sign (#)\n",
    "# this is how you write \"comments\"\n",
    "number=1 # an integer\n",
    "Number=1.0 # a floating point - notice the decimal point\n",
    "NUMBER='1' # a string - notice the quotation marks\n",
    "ANOTHERNUMBER=\"1\" # double quotes are also ok\n",
    "comp=1j # a complex number with imaginary part 1 \n",
    "#(don't ask why \"j\" and not \"i\") \n",
    "morecomplex=3+1j # the complex number 3+1i \n",
    "bools=True # A boolean variable (True/False or 1/0)\n",
    "\n"
   ]
  },
  {
   "cell_type": "markdown",
   "metadata": {},
   "source": [
    "Before you use a variable, you must define the variable and execute the code block where it's defined:\n",
    "\n",
    "To see what the variables are, simply type:  **print** and then the variable name.   "
   ]
  },
  {
   "cell_type": "code",
   "execution_count": 2,
   "metadata": {},
   "outputs": [
    {
     "name": "stdout",
     "output_type": "stream",
     "text": [
      "1\n"
     ]
    },
    {
     "ename": "NameError",
     "evalue": "name 'another' is not defined",
     "output_type": "error",
     "traceback": [
      "\u001b[0;31m---------------------------------------------------------------------------\u001b[0m",
      "\u001b[0;31mNameError\u001b[0m                                 Traceback (most recent call last)",
      "\u001b[0;32m<ipython-input-2-25216017a88d>\u001b[0m in \u001b[0;36m<module>\u001b[0;34m\u001b[0m\n\u001b[1;32m      1\u001b[0m \u001b[0mprint\u001b[0m \u001b[0;34m(\u001b[0m\u001b[0mnumber\u001b[0m\u001b[0;34m)\u001b[0m\u001b[0;34m\u001b[0m\u001b[0m\n\u001b[0;32m----> 2\u001b[0;31m \u001b[0mprint\u001b[0m \u001b[0;34m(\u001b[0m\u001b[0manother\u001b[0m\u001b[0;34m)\u001b[0m\u001b[0;34m\u001b[0m\u001b[0m\n\u001b[0m",
      "\u001b[0;31mNameError\u001b[0m: name 'another' is not defined"
     ]
    }
   ],
   "source": [
    "print (number)\n",
    "print (another)"
   ]
  },
  {
   "cell_type": "markdown",
   "metadata": {},
   "source": [
    "Aha! a bug - Python didn't know what **another** was because we hadn't defined it.  How would you fix this bug?  \n",
    "\n",
    "If you want to make \"another\" a variable you can do this: "
   ]
  },
  {
   "cell_type": "code",
   "execution_count": 15,
   "metadata": {},
   "outputs": [
    {
     "name": "stdout",
     "output_type": "stream",
     "text": [
      "another number\n"
     ]
    }
   ],
   "source": [
    "another='another number'\n",
    "print (another)"
   ]
  },
  {
   "cell_type": "markdown",
   "metadata": {},
   "source": [
    "If you want a variable to be the string \"another\", you can do this:"
   ]
  },
  {
   "cell_type": "code",
   "execution_count": 17,
   "metadata": {},
   "outputs": [
    {
     "name": "stdout",
     "output_type": "stream",
     "text": [
      "another\n"
     ]
    }
   ],
   "source": [
    "print ('another')"
   ]
  },
  {
   "cell_type": "markdown",
   "metadata": {},
   "source": [
    "Here are some pointers about variable names:  \n",
    "\n",
    "1) Variable names are composed of alphanumeric characters, including '-' and '\\_'.\n",
    "\n",
    "2) They are case sensitive:  'a' is not the same as 'A'.\n",
    "\n",
    "3) There are some _reserved words_ in Python that you may not use as your variable names because they have pre-defined meanings (for example,  _False_ or _True_)\n",
    "\n",
    "Here is a list of reserved words: \n",
    "\n",
    "|  and |  assert | break  | class  | continue  |\n",
    "|---|---|---|---|---|\n",
    "|def\t\t| del\t| \telif\t| else\t\t| except\t| \n",
    "|exec\t| \tfinally\t\t| for\t\t| from\t\t| global\t| \n",
    "|if\t\t| import\t| \tin\t\t| is\t\t| lambda\t| \n",
    "|not\t| \tor\t| \tpass\t| \tprint\t| \traise\t| \n",
    "|return\t| \ttry\t\t| while\t\t| \n",
    "\n",
    "Do NOT use any of the following words either (although they are not strictly Python reserved words, they conflict with the names of commonly-used Python functions):\n",
    "\n",
    "|Data\t|Float|\tInt|Numeric\t|\n",
    "|----|-----|---- |-----|\n",
    "|array|\tclose\t|float\t|int|\tinput|\n",
    "|open|\trange|\ttype|\twrite\t|zeros|\n",
    "\n",
    "You should also avoid all the names defined in commonly used libraries like: \n",
    "\n",
    "|acos|\tasin\t|atan\t|cos|\te|\n",
    "|----|-----|---- |-----|\n",
    "|exp\t|fabs\t|floor\t|log|\tlog10|\n",
    "|pi|\tsin|\tsqrt\t|tan\t|\n",
    "\n",
    "4) There are few rules for variable names except for avoiding reserved words, but there are \"best practices\".  In general, longer more descriptive words are better because they'll remind you what the variable stores. \n",
    "\n",
    "5) Here are some \"best practices\" for variable names:\n",
    "https://www.python.org/dev/peps/pep-0008/#naming-conventions\n",
    "\n",
    "Here are some popular choices:  \n",
    "\n",
    "- lowercase   - use this for variables\n",
    "- lower_case_with_underscores  - or this\n",
    "- mixedCase  - or this\n",
    "- UPPERCASE  - use this for constants\n",
    "- UPPER_CASE_WITH_UNDERSCORES - or this\n",
    "- CapitalizedWords (or CapWords, or CamelCase -- so named because of the bumpy look of its letters). This is also sometimes known as StudlyCaps. - this is for _classes_ which we will learn about later.  \n",
    "- Capitalized_Words_With_Underscores - don't use this, it's ugly!\n",
    "\n",
    "Also, some things to avoid:\n",
    "\n",
    "- Don't use characters 'l' (lowercase letter el), 'O' (uppercase letter oh), or 'I' (uppercase letter eye) as single character variable names. These are easily confused in some fonts with '1' (one), '0' (zero), for example.  If you really want a letter 'el', use 'L'.  \n",
    "\n",
    "- Don't use non-standard symbols like $^{\\circ}$ or $\\sim$.  \n",
    "\n",
    "- Be careful with special names that use leading or trailing underscores.  these are treated differently by Python and you have to know what you are doing before you use them.  "
   ]
  },
  {
   "cell_type": "markdown",
   "metadata": {},
   "source": [
    "### Operations\n",
    "\n",
    "Variables are lovely, but not very useful if we can't DO anything with them.  We use different _operations_ to manipulate variables. For example, addition, subtraction, etc.  \n",
    "\n",
    "|operation symbol|\tfunction\t|\n",
    "|----|-----|\n",
    "|**+**\t|adds |\n",
    "|**-** | subtracts |\n",
    "|**\\***|  multiplies|\n",
    "| **/** | divides |\n",
    "|  **%** | gives the remainder (this is called _modulo_).|\n",
    "| **\\*\\*** |raises to the power|\n",
    "|**+=** | increments |\n",
    "| **-=** | decrements |\n",
    "| ==  | tests equality |\n",
    "| != | tests inequality |\n",
    "\n",
    "Parentheses determine order of operation.  Use lots of them.\n",
    "\n",
    "\n",
    "\n",
    "\n",
    "Let's try using some operations on our variables. "
   ]
  },
  {
   "cell_type": "code",
   "execution_count": 18,
   "metadata": {},
   "outputs": [
    {
     "name": "stdout",
     "output_type": "stream",
     "text": [
      "2\n"
     ]
    }
   ],
   "source": [
    "number+number  # adding two integers produces an integer"
   ]
  },
  {
   "cell_type": "markdown",
   "metadata": {},
   "source": [
    "**TIP:** One interesting tidbit here - if the LAST statement in the code block is not assigned to a variable, then your notebook will print the outcome.   "
   ]
  },
  {
   "cell_type": "code",
   "execution_count": 4,
   "metadata": {},
   "outputs": [
    {
     "data": {
      "text/plain": [
       "2"
      ]
     },
     "execution_count": 4,
     "metadata": {},
     "output_type": "execute_result"
    }
   ],
   "source": [
    "number+number\n",
    "number+number"
   ]
  },
  {
   "cell_type": "markdown",
   "metadata": {},
   "source": [
    "But we could have also written it this way, to print out both statements: "
   ]
  },
  {
   "cell_type": "code",
   "execution_count": 5,
   "metadata": {},
   "outputs": [
    {
     "name": "stdout",
     "output_type": "stream",
     "text": [
      "2\n",
      "2\n"
     ]
    }
   ],
   "source": [
    "print (number+number)\n",
    "print (number+number)"
   ]
  },
  {
   "cell_type": "markdown",
   "metadata": {},
   "source": [
    "Moving on.... "
   ]
  },
  {
   "cell_type": "code",
   "execution_count": 6,
   "metadata": {},
   "outputs": [
    {
     "name": "stdout",
     "output_type": "stream",
     "text": [
      "2.0\n"
     ]
    }
   ],
   "source": [
    "print (number+Number) # adding an integer and a float makes a float"
   ]
  },
  {
   "cell_type": "markdown",
   "metadata": {},
   "source": [
    "Usually Python is pretty clever about figuring out what type is required (in the case above, it is a float).  But you must be careful.  In Python 2.7 (last year's model), if you multiply a float by an integer, you could convert the float to an integer when what you really wanted was a float! This seems to have been resolved in Python 3 (this year's model).  But to be sure,   if you want a float, use a decimal point.  Also in Python 3, division of two integers gives you a float, whereas in Python 2, it gave an integer.  "
   ]
  },
  {
   "cell_type": "code",
   "execution_count": 7,
   "metadata": {},
   "outputs": [
    {
     "name": "stdout",
     "output_type": "stream",
     "text": [
      "11\n"
     ]
    }
   ],
   "source": [
    "print (NUMBER+NUMBER) # adding two strings concatenates the strings"
   ]
  },
  {
   "cell_type": "code",
   "execution_count": 8,
   "metadata": {},
   "outputs": [
    {
     "ename": "TypeError",
     "evalue": "unsupported operand type(s) for +: 'int' and 'str'",
     "output_type": "error",
     "traceback": [
      "\u001b[0;31m---------------------------------------------------------------------------\u001b[0m",
      "\u001b[0;31mTypeError\u001b[0m                                 Traceback (most recent call last)",
      "\u001b[0;32m<ipython-input-8-80288afe6518>\u001b[0m in \u001b[0;36m<module>\u001b[0;34m\u001b[0m\n\u001b[0;32m----> 1\u001b[0;31m \u001b[0mprint\u001b[0m \u001b[0;34m(\u001b[0m\u001b[0mnumber\u001b[0m\u001b[0;34m+\u001b[0m\u001b[0mNUMBER\u001b[0m\u001b[0;34m)\u001b[0m \u001b[0;31m# adding a number to a string makes python mad!\u001b[0m\u001b[0;34m\u001b[0m\u001b[0m\n\u001b[0m",
      "\u001b[0;31mTypeError\u001b[0m: unsupported operand type(s) for +: 'int' and 'str'"
     ]
    }
   ],
   "source": [
    "print (number+NUMBER) # adding a number to a string makes python mad!"
   ]
  },
  {
   "cell_type": "markdown",
   "metadata": {},
   "source": [
    " Lesson learned: you can't add a number and a string.\n",
    " \n"
   ]
  },
  {
   "cell_type": "code",
   "execution_count": 9,
   "metadata": {},
   "outputs": [
    {
     "name": "stdout",
     "output_type": "stream",
     "text": [
      "1.0 1\n"
     ]
    }
   ],
   "source": [
    "print (Number, int(Number)) # makes an integer out of the floating point\n"
   ]
  },
  {
   "cell_type": "markdown",
   "metadata": {},
   "source": [
    "Or you can go the other way by turning an integer into a float:"
   ]
  },
  {
   "cell_type": "code",
   "execution_count": 10,
   "metadata": {},
   "outputs": [
    {
     "name": "stdout",
     "output_type": "stream",
     "text": [
      "1 1.0\n"
     ]
    }
   ],
   "source": [
    "print (number,float(number))"
   ]
  },
  {
   "cell_type": "markdown",
   "metadata": {},
   "source": [
    "You can turn a number (float or integer) into a string variable with the function **str( )**:"
   ]
  },
  {
   "cell_type": "code",
   "execution_count": 11,
   "metadata": {},
   "outputs": [
    {
     "name": "stdout",
     "output_type": "stream",
     "text": [
      "1 1\n"
     ]
    }
   ],
   "source": [
    "print (number, str(number)) # makes a string out of the integer variable"
   ]
  },
  {
   "cell_type": "markdown",
   "metadata": {},
   "source": [
    "But both of those looked the same. To see what the variable \"really\" is, try the **repr( )** function:"
   ]
  },
  {
   "cell_type": "code",
   "execution_count": 12,
   "metadata": {},
   "outputs": [
    {
     "name": "stdout",
     "output_type": "stream",
     "text": [
      "1 '1' '1' 1.0\n"
     ]
    }
   ],
   "source": [
    "print (repr(number),repr(str(number)), repr(NUMBER),repr(float(NUMBER)))\n",
    "# prints the representation of the variable"
   ]
  },
  {
   "cell_type": "markdown",
   "metadata": {},
   "source": [
    "We already mentioned another kind of variable called _boolean_. These are: \n",
    " True, False  or alternatively 1 and 0.  \n",
    "\n",
    "\n",
    "These have many uses but in particular can be used to control the flow of the program as we shall learn later.  \n"
   ]
  },
  {
   "cell_type": "markdown",
   "metadata": {},
   "source": [
    "TIP:  A really handy feature of Python is the built in **help( )** function.  So if you see a function you aren't familiar with, you can look up what it does using **help( )**.  For example, we just learned the function **repr( )** but you might not know all it's features yet.  No worries!  Just call for **help( )**"
   ]
  },
  {
   "cell_type": "code",
   "execution_count": 1,
   "metadata": {
    "scrolled": true
   },
   "outputs": [
    {
     "name": "stdout",
     "output_type": "stream",
     "text": [
      "Help on built-in function repr in module builtins:\n",
      "\n",
      "repr(obj, /)\n",
      "    Return the canonical string representation of the object.\n",
      "    \n",
      "    For many object types, including most builtins, eval(repr(obj)) == obj.\n",
      "\n"
     ]
    }
   ],
   "source": [
    "help(repr)"
   ]
  },
  {
   "cell_type": "markdown",
   "metadata": {},
   "source": [
    "There are other ways to get help.  One useful way is to type the command (or variable or other python objects) with a question mark at the end:"
   ]
  },
  {
   "cell_type": "code",
   "execution_count": 2,
   "metadata": {},
   "outputs": [],
   "source": [
    "repr?"
   ]
  },
  {
   "cell_type": "markdown",
   "metadata": {},
   "source": [
    "Two question marks returns the actual code too, unless it is a compiled bit (as for repr??).   \n",
    "\n",
    "Note that <TAB> is an autocompletion tool, so if (you do not know the exact name, but you know how it starts <TAB> is your friend.  \n",
    "    \n",
    " Finally, an asterisk (*) will act as a wild card"
   ]
  },
  {
   "cell_type": "markdown",
   "metadata": {},
   "source": [
    "### String operations\n",
    "\n",
    "Numbers are numbers. While there are more types of numbers (complex, etc.),\n",
    "strings are much more interesting. They can be denoted with single, double or triple quotes: "
   ]
  },
  {
   "cell_type": "code",
   "execution_count": 22,
   "metadata": {},
   "outputs": [
    {
     "name": "stdout",
     "output_type": "stream",
     "text": [
      "spam\n",
      "Sam's spam\n"
     ]
    }
   ],
   "source": [
    "string1='spam'\n",
    "string2=\"Sam's spam\"\n",
    "print (string1)\n",
    "print (string2)"
   ]
  },
  {
   "cell_type": "markdown",
   "metadata": {},
   "source": [
    "TIP:  spam is big in Monty Python - look for Monty Python and spam in youtube. Oh and you can embed youtube videos in you notebooks.  (cool). "
   ]
  },
  {
   "cell_type": "code",
   "execution_count": 1,
   "metadata": {},
   "outputs": [
    {
     "data": {
      "image/jpeg": "[encoded data removed]",
      "text/html": [
       "\n",
       "        <iframe\n",
       "            width=\"400\"\n",
       "            height=\"300\"\n",
       "            src=\"https://www.youtube.com/embed/anwy2MPT5RE\"\n",
       "            frameborder=\"0\"\n",
       "            allowfullscreen\n",
       "        ></iframe>\n",
       "        "
      ],
      "text/plain": [
       "<IPython.lib.display.YouTubeVideo at 0x1027033c8>"
      ]
     },
     "execution_count": 1,
     "metadata": {},
     "output_type": "execute_result"
    }
   ],
   "source": [
    "from IPython.display import YouTubeVideo\n",
    "YouTubeVideo('anwy2MPT5RE')"
   ]
  },
  {
   "cell_type": "markdown",
   "metadata": {},
   "source": [
    "back to strings.   \n",
    "\n",
    "You can also use triple quotes: \n",
    "\n"
   ]
  },
  {
   "cell_type": "code",
   "execution_count": 25,
   "metadata": {},
   "outputs": [
    {
     "name": "stdout",
     "output_type": "stream",
     "text": [
      "  \n",
      "Hi there I can type as\n",
      "many lines as I want\n",
      "\n"
     ]
    }
   ],
   "source": [
    "print (\"\"\"  \n",
    "Hi there I can type as\n",
    "many lines as I want\n",
    "\"\"\")"
   ]
  },
  {
   "cell_type": "markdown",
   "metadata": {},
   "source": [
    "\n",
    "\n",
    "Strings can be added together: \n",
    "\n"
   ]
  },
  {
   "cell_type": "code",
   "execution_count": 26,
   "metadata": {},
   "outputs": [
    {
     "name": "stdout",
     "output_type": "stream",
     "text": [
      "spamalot\n"
     ]
    }
   ],
   "source": [
    "newstring = 'spam' + 'alot'\n",
    "print (newstring)\n",
    "\n"
   ]
  },
  {
   "cell_type": "markdown",
   "metadata": {},
   "source": [
    "They  can be sliced:\n",
    "\n"
   ]
  },
  {
   "cell_type": "code",
   "execution_count": 27,
   "metadata": {},
   "outputs": [
    {
     "name": "stdout",
     "output_type": "stream",
     "text": [
      "spa\n"
     ]
    }
   ],
   "source": [
    "newerstring = newstring[0:3]\n",
    "print (newerstring)"
   ]
  },
  {
   "cell_type": "markdown",
   "metadata": {},
   "source": [
    "Notice how the slice was from the first index (number 0) up to but NOT INCLUDING the last index (3), so it took elements 0, 1 and 2 but not 3. \n",
    "\n",
    "Strings CANNOT be changed in place: \n",
    "\n",
    "That means, you can't do this: \n",
    "\n"
   ]
  },
  {
   "cell_type": "code",
   "execution_count": 28,
   "metadata": {},
   "outputs": [
    {
     "ename": "TypeError",
     "evalue": "'str' object does not support item assignment",
     "output_type": "error",
     "traceback": [
      "\u001b[0;31m---------------------------------------------------------------------------\u001b[0m",
      "\u001b[0;31mTypeError\u001b[0m                                 Traceback (most recent call last)",
      "\u001b[0;32m<ipython-input-28-fa744c17b6a6>\u001b[0m in \u001b[0;36m<module>\u001b[0;34m\u001b[0m\n\u001b[0;32m----> 1\u001b[0;31m \u001b[0mnewstring\u001b[0m\u001b[0;34m[\u001b[0m\u001b[0;36m0\u001b[0m\u001b[0;34m]\u001b[0m\u001b[0;34m=\u001b[0m\u001b[0;34m'b'\u001b[0m\u001b[0;34m\u001b[0m\u001b[0m\n\u001b[0m",
      "\u001b[0;31mTypeError\u001b[0m: 'str' object does not support item assignment"
     ]
    }
   ],
   "source": [
    "newstring[0]='b'"
   ]
  },
  {
   "cell_type": "markdown",
   "metadata": {},
   "source": [
    "Yup, that made Python mad.  \n",
    "\n",
    "\n",
    "To find more of the things you can and cannot do to strings, see: http://docs.python.org/tutorial/introduction.html#strings\n",
    "\n",
    "\n",
    "If you looked at it, you can see where the spam references came from. :)"
   ]
  },
  {
   "cell_type": "markdown",
   "metadata": {},
   "source": [
    "### Let's play with some variables"
   ]
  },
  {
   "cell_type": "code",
   "execution_count": 30,
   "metadata": {},
   "outputs": [
    {
     "name": "stdout",
     "output_type": "stream",
     "text": [
      "2\n"
     ]
    }
   ],
   "source": [
    "a=2\n",
    "print (a)"
   ]
  },
  {
   "cell_type": "code",
   "execution_count": 32,
   "metadata": {},
   "outputs": [
    {
     "name": "stdout",
     "output_type": "stream",
     "text": [
      "2\n"
     ]
    }
   ],
   "source": [
    "b=2\n",
    "print (b)"
   ]
  },
  {
   "cell_type": "code",
   "execution_count": 33,
   "metadata": {},
   "outputs": [
    {
     "name": "stdout",
     "output_type": "stream",
     "text": [
      "4\n"
     ]
    }
   ],
   "source": [
    "c=a+b\n",
    "print (c)"
   ]
  },
  {
   "cell_type": "markdown",
   "metadata": {},
   "source": [
    "You will recognize $a, b,$ and $c$ in the above session as _variables_ and $+$ as an _operation_.   And these examples are pretty straight-forward  math operations.  \n",
    "\n",
    "But programming operations are not the same as arithmetic ones. For example, this statement would get you flunked out of 5th grade, but it is perfectly acceptable in Python: "
   ]
  },
  {
   "cell_type": "code",
   "execution_count": 34,
   "metadata": {},
   "outputs": [
    {
     "name": "stdout",
     "output_type": "stream",
     "text": [
      "c =  4\n",
      "now c is:  5\n"
     ]
    }
   ],
   "source": [
    "print ('c = ',c)\n",
    "c=c+1\n",
    "print ('now c is: ',c)"
   ]
  },
  {
   "cell_type": "markdown",
   "metadata": {},
   "source": [
    "The trick here is that the right hand side gets evaluated first, then assigned to the left hand side.  \n",
    "\n",
    "And here is another funny looking statement, which is also perfectly valid (and does the same thing as c=c+1).  "
   ]
  },
  {
   "cell_type": "code",
   "execution_count": 35,
   "metadata": {},
   "outputs": [
    {
     "name": "stdout",
     "output_type": "stream",
     "text": [
      "now c is:  6\n"
     ]
    }
   ],
   "source": [
    "c+=1\n",
    "print ('now c is: ',c)"
   ]
  },
  {
   "cell_type": "markdown",
   "metadata": {},
   "source": [
    "Until now we have defined variables one by one each on its own line.  But there is a more compact way to do this. In fact, we can combine any number of statements on a single line by separating them with semi-colons:  "
   ]
  },
  {
   "cell_type": "code",
   "execution_count": 36,
   "metadata": {},
   "outputs": [
    {
     "name": "stdout",
     "output_type": "stream",
     "text": [
      "2 2 4\n"
     ]
    }
   ],
   "source": [
    "a=2;b=2;c=a+b;c\n",
    "print (a,b,c)"
   ]
  },
  {
   "cell_type": "markdown",
   "metadata": {},
   "source": [
    "And here is another way to do the exact same thing: "
   ]
  },
  {
   "cell_type": "code",
   "execution_count": 37,
   "metadata": {},
   "outputs": [
    {
     "name": "stdout",
     "output_type": "stream",
     "text": [
      "4 5 6\n"
     ]
    }
   ],
   "source": [
    "d,e,f=4,5,6 \n",
    "print (d,e,f)"
   ]
  }
 ],
 "metadata": {
  "kernelspec": {
   "display_name": "Python 3",
   "language": "python",
   "name": "python3"
  },
  "language_info": {
   "codemirror_mode": {
    "name": "ipython",
    "version": 3
   },
   "file_extension": ".py",
   "mimetype": "text/x-python",
   "name": "python",
   "nbconvert_exporter": "python",
   "pygments_lexer": "ipython3",
   "version": "3.6.7"
  }
 },
 "nbformat": 4,
 "nbformat_minor": 1
}
