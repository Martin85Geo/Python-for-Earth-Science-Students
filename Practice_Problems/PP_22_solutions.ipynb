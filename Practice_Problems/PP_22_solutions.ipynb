{
 "cells": [
  {
   "cell_type": "markdown",
   "metadata": {},
   "source": [
    "# Practice Problems\n",
    "### Lecture 22\n",
    "Answer each number in a separate cell\n",
    "\n",
    "Rename the notebook with your lastName, first initial and the lecture \n",
    "    \n",
    "    ex. Cych_B_22\n",
    "    \n",
    "Turn this notebook into Canvas"
   ]
  },
  {
   "cell_type": "markdown",
   "metadata": {},
   "source": [
    "## 1. Cartesian coordinates and polar coordinates\n",
    "- Write lambda functions to replace dir2cart() and cart2dir(). Call them **dir_cart** and **cart_dir**\n",
    "- You measured a bedding plane with an azimuth of  40 and a plunge of 62. Use your function **dir_cart()** to convert the coordinates to cartesian coordinates.\n",
    "- Use your function **cart_dir()** to convert the cartesian coordinates back to polar coordinates\n",
    "- test your functions by calling the **dir2cart()** and **cart2dir()** funtions in the lecture.\n",
    "- modify **cart2dir()** to round to the nearest decimal\n",
    "\n",
    "## 2. Unit vectors\n",
    "- What is the sum of the two vectors Az1=245, Pl1=22 and Az2=10, Pl2=60?\n",
    "- What is the difference between these vectors?  \n",
    "- What is angle between the two vectors? \n",
    "- What is pole to the two vectors?  \n",
    "- Make an equal angle diagram\n",
    "    - plot the two vectors as green triangles\n",
    "    - plot the pole to the plane as a blue star\n",
    "    \n",
    "## 3.  Vectors with length\n",
    "- Modify the function **dir2cart()** from the lecture to include vector length $R$.  Call it **vec2cart()**.\n",
    "- Apply your new function to evaluate the cartesian coordinates of the vector with Azimuth=12, Plunge=42, R=8\n",
    "- Modify the function **cart2dir()** to return the full vector (Azimuth, Plunge and $R$) from the cartesian coordinates.  Call this one **cart2vec()**.  \n",
    "- Verify that your function works, by feeding the output of **dir2cart()** back into **cart2dir()** to make sure you get back what you started with.    "
   ]
  },
  {
   "cell_type": "code",
   "execution_count": 1,
   "metadata": {
    "ExecuteTime": {
     "end_time": "2020-05-18T20:22:59.118526Z",
     "start_time": "2020-05-18T20:22:57.641564Z"
    }
   },
   "outputs": [],
   "source": [
    "import numpy as np\n",
    "import matplotlib.pyplot as plt\n",
    "%matplotlib inline\n"
   ]
  },
  {
   "cell_type": "markdown",
   "metadata": {},
   "source": [
    "## 1. Cartesian coordinates and polar coordinates\n"
   ]
  },
  {
   "cell_type": "code",
   "execution_count": 2,
   "metadata": {
    "ExecuteTime": {
     "end_time": "2020-05-18T20:22:59.159002Z",
     "start_time": "2020-05-18T20:22:59.131343Z"
    }
   },
   "outputs": [],
   "source": [
    "#from the lecture:\n",
    "def dir2cart(Dir):\n",
    "    \"\"\"\n",
    "    converts polar directions to cartesian coordinates\n",
    "    Inputs: \n",
    "        Dir[Azimuth,Plunge]:  directions in degreess\n",
    "    Output:\n",
    "        [X,Y,Z]: cartesian coordinates\n",
    "    \"\"\"\n",
    "    Az,Pl=np.radians(Dir[0]),np.radians(Dir[1])\n",
    "    return [np.cos(Az)*np.cos(Pl),np.sin(Az)*np.cos(Pl),np.sin(Pl)]\n",
    " \n",
    "def cart2dir(X):\n",
    "    \"\"\"\n",
    "    converts cartesian coordinates to polar azimuth and plunge\n",
    "    Inputs:\n",
    "        X: list of X,Y,Z coordinates\n",
    "    Ouputs: \n",
    "        [Az,Pl]: list of polar coordinates in degrees\n",
    "    \"\"\"\n",
    "    R=np.sqrt(X[0]**2+X[1]**2+X[2]**2) # calculate resultant vector length\n",
    "    Az=np.degrees(np.arctan2(X[1],X[0]))%360. # calculate declination taking care of correct quadrants (arctan2) and making modulo 360.\n",
    "    Pl=np.degrees(np.arcsin(X[2]/R)) # calculate inclination (converting to degrees) #\n",
    "    return [Az,Pl]\n"
   ]
  },
  {
   "cell_type": "code",
   "execution_count": 3,
   "metadata": {
    "ExecuteTime": {
     "end_time": "2020-05-18T20:22:59.217674Z",
     "start_time": "2020-05-18T20:22:59.182260Z"
    }
   },
   "outputs": [],
   "source": [
    "dir_cart = lambda Az,Pl : [np.cos(np.radians(Az))*np.cos(np.radians(Pl)),\\\n",
    "                           np.sin(np.radians(Az))*np.cos(np.radians(Pl)),np.sin(np.radians(Pl))]\n",
    "cart_dir = lambda x,y,z : [np.degrees(np.arctan2(y,x))%360,np.degrees(np.arcsin(z/np.sqrt(x**2+y**2+z**2)))]\n"
   ]
  },
  {
   "cell_type": "code",
   "execution_count": 4,
   "metadata": {
    "ExecuteTime": {
     "end_time": "2020-05-18T20:22:59.454463Z",
     "start_time": "2020-05-18T20:22:59.444221Z"
    }
   },
   "outputs": [
    {
     "name": "stdout",
     "output_type": "stream",
     "text": [
      "[0.3596360818745141, 0.3017705036589468, 0.8829475928589269] [39.99999999999999, 62.0]\n"
     ]
    }
   ],
   "source": [
    "cart=dir_cart(40,62)\n",
    "azpl=cart_dir(cart[0],cart[1],cart[2])\n",
    "print (cart,azpl)\n"
   ]
  },
  {
   "cell_type": "code",
   "execution_count": 5,
   "metadata": {
    "ExecuteTime": {
     "end_time": "2020-05-18T20:22:59.930885Z",
     "start_time": "2020-05-18T20:22:59.919091Z"
    }
   },
   "outputs": [
    {
     "name": "stdout",
     "output_type": "stream",
     "text": [
      "[0.3596360818745141, 0.3017705036589468, 0.8829475928589269] [39.99999999999999, 62.0]\n"
     ]
    }
   ],
   "source": [
    "cart=dir2cart([40,62])\n",
    "azpl=cart2dir(cart)\n",
    "print (cart,azpl)"
   ]
  },
  {
   "cell_type": "code",
   "execution_count": 6,
   "metadata": {
    "ExecuteTime": {
     "end_time": "2020-05-18T20:23:00.409422Z",
     "start_time": "2020-05-18T20:23:00.399001Z"
    }
   },
   "outputs": [],
   "source": [
    "# new version:\n",
    "def cart2dir(X):\n",
    "    \"\"\"\n",
    "    converts cartesian coordinates to polar azimuth and plunge\n",
    "    Inputs:\n",
    "        X: list of X,Y,Z coordinates\n",
    "    Ouputs: \n",
    "        [Az,Pl]: list of polar coordinates in degrees\n",
    "    \"\"\"\n",
    "    R=np.sqrt(X[0]**2+X[1]**2+X[2]**2) # calculate resultant vector length\n",
    "    Az=np.degrees(np.arctan2(X[1],X[0]))%360. # calculate declination taking care of correct quadrants (arctan2) and making modulo 360.\n",
    "    Pl=np.degrees(np.arcsin(X[2]/R)) # calculate inclination (converting to degrees) #\n",
    "    return [np.round(Az,1),np.round(Pl,1)]\n"
   ]
  },
  {
   "cell_type": "code",
   "execution_count": 7,
   "metadata": {
    "ExecuteTime": {
     "end_time": "2020-05-18T20:23:00.866142Z",
     "start_time": "2020-05-18T20:23:00.855848Z"
    }
   },
   "outputs": [
    {
     "data": {
      "text/plain": [
       "[40.0, 62.0]"
      ]
     },
     "execution_count": 7,
     "metadata": {},
     "output_type": "execute_result"
    }
   ],
   "source": [
    "cart2dir(cart)"
   ]
  },
  {
   "cell_type": "markdown",
   "metadata": {},
   "source": [
    "## 2. Unit vectors"
   ]
  },
  {
   "cell_type": "code",
   "execution_count": 8,
   "metadata": {
    "ExecuteTime": {
     "end_time": "2020-05-18T20:23:02.123289Z",
     "start_time": "2020-05-18T20:23:02.057892Z"
    }
   },
   "outputs": [
    {
     "data": {
      "text/plain": [
       "[277.6, 58.5]"
      ]
     },
     "execution_count": 8,
     "metadata": {},
     "output_type": "execute_result"
    }
   ],
   "source": [
    "Az1=245; Pl1=22;Az2=10; Pl2=60\n",
    "cart1=dir2cart([Az1,Pl1])\n",
    "cart2=dir2cart([Az2,Pl2])\n",
    "cart3=[]\n",
    "for i in range(3):\n",
    "    cart3.append(cart1[i]+cart2[i])\n",
    "dir3=cart2dir(cart3)\n",
    "dir3"
   ]
  },
  {
   "cell_type": "code",
   "execution_count": 9,
   "metadata": {},
   "outputs": [
    {
     "data": {
      "text/plain": [
       "[226.4, -21.0]"
      ]
     },
     "execution_count": 9,
     "metadata": {},
     "output_type": "execute_result"
    }
   ],
   "source": [
    "cart4=[]\n",
    "for i in range(3):\n",
    "    cart4.append(cart1[i]-cart2[i])\n",
    "dir4=cart2dir(cart4)\n",
    "dir4"
   ]
  },
  {
   "cell_type": "code",
   "execution_count": 10,
   "metadata": {},
   "outputs": [
    {
     "data": {
      "text/plain": [
       "86.6455118917524"
      ]
     },
     "execution_count": 10,
     "metadata": {},
     "output_type": "execute_result"
    }
   ],
   "source": [
    "np.degrees(np.arccos(np.dot(cart1,cart2)))"
   ]
  },
  {
   "cell_type": "code",
   "execution_count": 11,
   "metadata": {},
   "outputs": [
    {
     "data": {
      "text/plain": [
       "[145.4, 22.4]"
      ]
     },
     "execution_count": 11,
     "metadata": {},
     "output_type": "execute_result"
    }
   ],
   "source": [
    "pole=cart2dir(np.cross(cart1,cart2))\n",
    "pole"
   ]
  },
  {
   "cell_type": "code",
   "execution_count": 12,
   "metadata": {},
   "outputs": [
    {
     "data": {
      "image/png": "[encoded data removed]",
      "text/plain": [
       "<Figure size 432x288 with 1 Axes>"
      ]
     },
     "metadata": {
      "needs_background": "light"
     },
     "output_type": "display_data"
    }
   ],
   "source": [
    "# Here's the equal angle function\n",
    "EqualAngle = lambda Pl: 90.*np.tan(np.radians(90.-Pl)/(2.))\n",
    "# make a plot instance with polar axes\n",
    "fig = plt.subplot(111, polar=True) \n",
    "# set the coordinates (like for rose diagrams)\n",
    "fig.set_theta_direction(-1) # Reverse direction of degrees (CW)\n",
    "fig.set_theta_zero_location(\"N\") # Specify 0-degrees as North\n",
    "# for this we want the full 90 degrees, so set the scale\n",
    "plt.polar([0],[90]) ## to scale grid\n",
    "# plot the  directions as a red dots\n",
    "Azs=np.array([Az1,Az2])\n",
    "Pls=np.array([Pl1,Pl2])\n",
    "poles=np.array(pole)\n",
    "plt.polar(np.radians(Azs),(EqualAngle(Pls)),'g^')\n",
    "plt.polar(np.radians(poles[0]),(EqualAngle(poles[1])),'b*')\n",
    "\n",
    "# make a list of contours to plot\n",
    "# notice use of list comprehension\n",
    "# label the azimuths at 20 degree intervals\n",
    "AzContours=range(0,360,20)\n",
    "AzLabels=[str(p) for p in AzContours]\n",
    "plt.thetagrids(AzContours,AzLabels)\n",
    "\n",
    "# and now the plunges\n",
    "PlContours=[EqualAngle(a) for a in range(10,90,20)] ##don't include center or edge\n",
    "# make a list of labels\n",
    "PlLabels=[str(a) for a in range(10,90,20)]\n",
    "# draw on the plunge contours and label them\n",
    "plt.rgrids(PlContours,PlLabels);"
   ]
  },
  {
   "cell_type": "markdown",
   "metadata": {},
   "source": [
    "## 3.  Vectors with length"
   ]
  },
  {
   "cell_type": "code",
   "execution_count": 13,
   "metadata": {},
   "outputs": [],
   "source": [
    "def vec2cart(Dir):\n",
    "    \"\"\"\n",
    "    converts polar directions to cartesian coordinates\n",
    "    Inputs: \n",
    "        Dir[Azimuth,Plunge,Length]:  directions in degrees and length in arbitrary units\n",
    "    Output:\n",
    "        [X,Y,Z]: cartesian coordinates\n",
    "    \"\"\"\n",
    "    Az,Pl,R=np.radians(Dir[0]),np.radians(Dir[1]),Dir[2]\n",
    "    return [R*np.cos(Az)*np.cos(Pl),R*np.sin(Az)*np.cos(Pl),R*np.sin(Pl)]\n",
    " \n",
    "def cart2vec(X):\n",
    "    \"\"\"\n",
    "    converts cartesian coordinates to polar azimuth and plunge\n",
    "    Inputs:\n",
    "        X: list of X,Y,Z coordinates\n",
    "    Ouputs: \n",
    "        [Az,Pl]: list of polar coordinates in degrees\n",
    "    \"\"\"\n",
    "    R=np.sqrt(X[0]**2+X[1]**2+X[2]**2) # calculate resultant vector length\n",
    "    Az=np.degrees(np.arctan2(X[1],X[0]))%360. # calculate declination taking care of correct quadrants (arctan2) and making modulo 360.\n",
    "    Pl=np.degrees(np.arcsin(X[2]/R)) # calculate inclination (converting to degrees) #\n",
    "    return [Az,Pl,R]\n"
   ]
  },
  {
   "cell_type": "code",
   "execution_count": 14,
   "metadata": {},
   "outputs": [
    {
     "name": "stdout",
     "output_type": "stream",
     "text": [
      "[5.815242624307648, 1.2360679774997898, 5.353044850870866]\n",
      "[12.0, 42.0, 8.0]\n"
     ]
    }
   ],
   "source": [
    "Az,Pl,R=12,42,8\n",
    "cart=vec2cart([Az,Pl,R])\n",
    "print (cart)\n",
    "print (cart2vec(cart))"
   ]
  }
 ],
 "metadata": {
  "kernelspec": {
   "display_name": "Python 3",
   "language": "python",
   "name": "python3"
  },
  "language_info": {
   "codemirror_mode": {
    "name": "ipython",
    "version": 3
   },
   "file_extension": ".py",
   "mimetype": "text/x-python",
   "name": "python",
   "nbconvert_exporter": "python",
   "pygments_lexer": "ipython3",
   "version": "3.6.8"
  }
 },
 "nbformat": 4,
 "nbformat_minor": 2
}
