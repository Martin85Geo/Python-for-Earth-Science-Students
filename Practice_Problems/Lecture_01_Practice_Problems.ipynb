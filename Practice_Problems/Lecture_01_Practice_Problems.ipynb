{
 "cells": [
  {
   "cell_type": "markdown",
   "metadata": {},
   "source": [
    "# Practice Problems\n",
    "### Lecture 1\n",
    "Answer each number in a separate cell\n",
    "\n",
    "Rename this notebook with your last name and the (2 digit) lecture number. \n",
    "    \n",
    "    ex. Cych_01\n",
    "    \n",
    "Turn-in this notebook on triton-ed by 5pm tomorrow.  "
   ]
  },
  {
   "cell_type": "markdown",
   "metadata": {},
   "source": [
    "1. Practice with inserting cells\n",
    "    - launch jupyter notebook and make a new notebook called YOURLASTNAME_PPnumber\n",
    "    - Insert a cell. \n",
    "    - Change it to ‘Markdown’ and type some notes. You can just type most things, but special features like Section headers, bullets, numbered lists and other fun things require special formatting. For a pretty good explanation see this link: https://github.com/adam-p/markdown-here/wiki/Markdown-Cheatsheet\n",
    "    - Run the cell to typeset your notes. If you want to change them, just double click on the cell, type away, then 'run' it again.\n",
    "\n",
    "2. Practice with markdown cells\n",
    "\n",
    "    - If you see plain text in one of the cells in the lecture notebooks, just double click on it and all will be revealed. Try double clicking on THIS cell to see how to make bulleted lists \n",
    "    - then run it.\n",
    "\n",
    "3. Practice with code cells\n",
    "\n",
    "    - Insert another cell, keeping it the default of Code.\n",
    "\n",
    "    - type in the cell: print(\"Hello World\") \n",
    "    - run that cell.\n",
    "    \n",
    "4. Commands within a jupyter notebook\n",
    "    - Create a  directory called **Practice**.\n",
    "    - List the contents of the current directory. \n",
    "    - Remove the directory **Practice**. \n",
    "    - List the contents of the current directory again.\n",
    " \n",
    "Turn in your notebook using TritonEd. For this first lecture, you have until 5pm tomorrow. Make sure your notebook has the correct name.  You will recieve a ZERO if \n",
    "1) the notebook doesn't work. 2) it has the wrong name.  3) is turned in after the deadline.  4) you obviously copied from somebody else.  Do your own work! "
   ]
  },
  {
   "cell_type": "markdown",
   "metadata": {},
   "source": [
    "Further practice outside of the notebook. This will not be graded but eventually you will have to know how to do these things, so you might as well practice them now!  \n",
    "\n",
    "\n",
    "\n",
    "5. Commands on the command line \n",
    "    - Open up a terminal window (or anaconda prompt on PCs).\n",
    "    - Print out your current directory with **pwd**. \n",
    "    - Use **mkdir** to create a new folder\n",
    "    - **cd** into that folder\n",
    "    - Use **cat** (or **type** on PCs) to write your name into a file called **testfile.txt** use the syntax:\n",
    "        - **cat > myfile.txt**\n",
    "        - Brendan Cych \\[type in your own name here!\\]\n",
    "        - To finish the task, you must press on the **control** key and 'D' at the same time (**control C** on a PC). \n",
    "    - Use **cat** (or **type**) again (with no redirect) to see the contents of your file.\n",
    "    - Create a file **currentDirectory.txt** with a list of the folders and files in the current directory\n",
    "    - Make a folder called _Practice_\n",
    "    - Move the file **currentDirectory.txt** to the folder Practice \n",
    "        - use the command:\n",
    "           **mv** _oldfilepath_ _newfilepath_\n",
    "    - Remove the file **currentDirectory.txt** \n",
    "    - Print a list of your current directory \n",
    "    \n",
    "6. Make an executable python script. \n",
    "    - use **cat > YOURSCRIPT.py** to write a python script (or **type** on PCs). \n",
    "        - Your python script should print \"Hello World\"\n",
    "        - Remember: to finish, hold down control and D  (or C on PCs) at the same time \n",
    "    - Run your script with **python YOURSCRIPT.py**  \n",
    "    - If on a Mac, \n",
    "        - edit your script to include the #!/usr/bin/env python  line at the top\n",
    "        - use **chmod** to make the script executable\n",
    "    - execute your script from the command line.  "
   ]
  },
  {
   "cell_type": "code",
   "execution_count": null,
   "metadata": {
    "collapsed": true
   },
   "outputs": [],
   "source": []
  }
 ],
 "metadata": {
  "kernelspec": {
   "display_name": "Python 3",
   "language": "python",
   "name": "python3"
  },
  "language_info": {
   "codemirror_mode": {
    "name": "ipython",
    "version": 3
   },
   "file_extension": ".py",
   "mimetype": "text/x-python",
   "name": "python",
   "nbconvert_exporter": "python",
   "pygments_lexer": "ipython3",
   "version": "3.6.7"
  }
 },
 "nbformat": 4,
 "nbformat_minor": 2
}
