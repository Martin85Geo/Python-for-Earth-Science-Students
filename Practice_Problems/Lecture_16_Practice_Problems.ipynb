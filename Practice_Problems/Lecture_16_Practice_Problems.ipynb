{
 "cells": [
  {
   "cell_type": "markdown",
   "metadata": {},
   "source": [
    "# Practice Problems\n",
    "### Lecture 16\n",
    "Answer each number in a separate cell\n",
    "\n",
    "Rename the notebook with your lastName and the lecture \n",
    "    \n",
    "    ex. CychB_16\n",
    "    \n",
    "Turn this notebook into Canvas"
   ]
  },
  {
   "cell_type": "code",
   "execution_count": 1,
   "metadata": {},
   "outputs": [],
   "source": [
    "import pandas as pd\n",
    "import numpy as np"
   ]
  },
  {
   "cell_type": "markdown",
   "metadata": {
    "collapsed": true
   },
   "source": [
    "# 1. Linear regression\n",
    "- Read in the dataset **Datasets/SpreadingRates/km_age.txt** as a Pandas DataFrame \n",
    "    - Each data point is the age and distance from the South Atlantic ridge crests to a particular magnetic anomaly. The ages (Ma) were published by Gradstein et al. (2004) \n",
    "- Plot the age against distance; use age as the x-axis. Label your figure\n",
    "\n",
    "- Calculate the spreading rate by using the function **np.polyfit( )** and a linear fit\n",
    "- Evaluate the linear fit using **np.polyval( )**\n",
    "- Plot the best fit line as a red dashed line along with the data"
   ]
  },
  {
   "cell_type": "markdown",
   "metadata": {},
   "source": [
    "# 2. Lambda functions\n",
    "- Write a lambda function that converts z to velocity\n",
    "- Write a second lambda function that converts mu to distance\n",
    "- Rewrite the code cell that follows to call your new functions"
   ]
  },
  {
   "cell_type": "code",
   "execution_count": 3,
   "metadata": {},
   "outputs": [
    {
     "name": "stdout",
     "output_type": "stream",
     "text": [
      "16.8657555333\n"
     ]
    }
   ],
   "source": [
    "new_data=pd.read_csv('Datasets/redShiftDistance/mu_z.csv',header=1)\n",
    "\n",
    "# function returns age in Ga for Ho\n",
    "age_from_Ho= lambda Ho : 1e-9*3.09e19/(Ho*np.pi*1e7)\n",
    "\n",
    "# convert z to velocity in 10^3 km/s (or 10^6 m/s)\n",
    "c=3e8 # speed of light in m/s\n",
    "new_data['velocity']=1e-6*c* \\\n",
    "    (((new_data.z+1.)**2-1.)/((new_data.z+1.)**2+1.)) # the formula for v from z (and c)\n",
    "# convert mu to distance in 10^3 Mpc (a Gpc):\n",
    "new_data['distance']=10.*(10.**((new_data['mu'])/5.))*1e-9 # convert mu to Gpc\n",
    "# and filter for the closest objects\n",
    "close_data=new_data[new_data.distance<0.7]\n",
    "\n",
    "close_fit= np.polyfit(close_data['distance'],close_data['velocity'],1) # calculate the coefficients\n",
    "close_modelYs=np.polyval(close_fit,close_data['distance']) # get the model values\n",
    "\n",
    "age=age_from_Ho(close_fit[0]) # get a new age \n",
    "print (age)"
   ]
  },
  {
   "cell_type": "markdown",
   "metadata": {},
   "source": [
    "# 3. Polynomial fits\n",
    "\n",
    "Certain isotopes are unstable and decay through _radioactive decay_.  The formula for radioactive decay is:\n",
    "\n",
    "$N= N_o \\exp^{-\\lambda T}$\n",
    "\n",
    "  $\\lambda$ is the decay constant (the time for $N$ to decay to $1/\\exp$ of the original value\n",
    "\n",
    "  $T$ is time\n",
    "\n",
    "  $N$ is the number of nuclei remaining after time $T$ \n",
    "\n",
    "  $N_o$ is the original number or parent nuclei\n",
    "\n",
    "The _half-life_ ($t_{1/2}$) is the time for $N$ to decay to $N_o$/2. The formula is:\n",
    "\n",
    "$t_{1/2} = \\frac {ln 2}{\\lambda}$\n",
    "\n",
    "- Write a lambda function to calculate radioactive decay. The decay constant, time, and initial parent should be supplied as parameters.  \n",
    "- The half-life of radiocarbon is 5,730 yrs. Calculate the decay constant of radiocarbon \n",
    "- Assume that the the initial parent, $N_o$, is 1, and time ranges from 0 to 7 half-lives. Use your function to calculate radioactive decay for radiocarbon\n",
    "- Plot a curve of $N$ versus $T$  \n",
    "- Calculate the best-fit polynomial to your curve.  Use both **np.polyfit( )** and the **sklearn** way.  Try different degrees for you polynomial, 3 and 13. \n",
    "- Draw a red vertical line at the half-life of radiocarbon and a red horizontal line at .5.   "
   ]
  },
  {
   "cell_type": "code",
   "execution_count": null,
   "metadata": {},
   "outputs": [],
   "source": []
  }
 ],
 "metadata": {
  "kernelspec": {
   "display_name": "Python 3",
   "language": "python",
   "name": "python3"
  },
  "language_info": {
   "codemirror_mode": {
    "name": "ipython",
    "version": 3
   },
   "file_extension": ".py",
   "mimetype": "text/x-python",
   "name": "python",
   "nbconvert_exporter": "python",
   "pygments_lexer": "ipython3",
   "version": "3.6.7"
  }
 },
 "nbformat": 4,
 "nbformat_minor": 2
}
