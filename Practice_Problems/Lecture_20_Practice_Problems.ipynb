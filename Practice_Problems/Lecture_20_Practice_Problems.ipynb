{
 "cells": [
  {
   "cell_type": "markdown",
   "metadata": {},
   "source": [
    "# Practice Problems\n",
    "### Lecture 20\n",
    "Answer each number in a separate cell\n",
    "\n",
    "Rename the notebook with your lastName and the lecture \n",
    "    \n",
    "    ex. CychB_20\n",
    "    \n",
    "Turn this notebook into Canvas"
   ]
  },
  {
   "cell_type": "markdown",
   "metadata": {},
   "source": [
    "# 1.\n",
    "- Read in the data in Datasets/navdat.txt and filter for ages less than 10,000 years (the Holocene).\n",
    "- Filter them to include only data from USA\n",
    "- make new point and kde plots with **Geoplot**. \n",
    "\n",
    "# 2.\n",
    "- Make an open street map (OSM_A) for the state in which you were born\n",
    "- Put your birth city on the map.  \n",
    "\n",
    "# 3.\n",
    "- read in the coastline data for the state of Hawaii and make a plot with all the islands on it.  \n",
    "- read in the coastline data and convert it to UTM.\n",
    "- plot the Big Island in both Lat/Lon and UTM coordinates in side-by-side plots using GridSpec from Lecture 13.\n",
    "- plot the Big Island elevation data using **plt.contour**  versus **plt.tricontour** side by side. Remember for the former, you must make a meshgrid. \n",
    "\n",
    "\n",
    "\n",
    "# 4.\n",
    "- How can you tell which is northing and which is easting in a UTM set of coordinates? "
   ]
  }
 ],
 "metadata": {
  "kernelspec": {
   "display_name": "Python 3",
   "language": "python",
   "name": "python3"
  },
  "language_info": {
   "codemirror_mode": {
    "name": "ipython",
    "version": 3
   },
   "file_extension": ".py",
   "mimetype": "text/x-python",
   "name": "python",
   "nbconvert_exporter": "python",
   "pygments_lexer": "ipython3",
   "version": "3.6.7"
  }
 },
 "nbformat": 4,
 "nbformat_minor": 2
}
